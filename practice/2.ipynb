{
 "cells": [
  {
   "cell_type": "code",
   "execution_count": 30,
   "id": "97435bf7-4f7d-4291-9d0e-4be4e32520f3",
   "metadata": {},
   "outputs": [
    {
     "data": {
      "text/plain": [
       "array([[36,  6, 18, 24],\n",
       "       [43, 47, 39,  4],\n",
       "       [25, 29, 10, 11]])"
      ]
     },
     "execution_count": 30,
     "metadata": {},
     "output_type": "execute_result"
    }
   ],
   "source": [
    "import numpy as np\n",
    "\n",
    "arr = np.random.randint(1,50,(3,4))\n",
    "arr"
   ]
  },
  {
   "cell_type": "code",
   "execution_count": 31,
   "id": "d518b6b6-967b-41d2-b92f-3f7c82922315",
   "metadata": {},
   "outputs": [
    {
     "name": "stdout",
     "output_type": "stream",
     "text": [
      "[21.   33.25 18.75]\n",
      "[10.81665383 17.12271883  8.37779804]\n",
      "[117.     293.1875  70.1875]\n"
     ]
    }
   ],
   "source": [
    "print(arr.mean(axis=1))\n",
    "print(arr.std(axis=1))\n",
    "print(arr.var(axis=1))"
   ]
  },
  {
   "cell_type": "code",
   "execution_count": 13,
   "id": "e9fcd7f4-9578-48f6-8466-21fe68cfd246",
   "metadata": {},
   "outputs": [
    {
     "name": "stdout",
     "output_type": "stream",
     "text": [
      "[44 25 19 47 36 35  5 25 30  9]\n",
      "[ 5  9 19 25 25 30 35 36 44 47]\n",
      "[6 9 2 1 7 8 5 4 0 3]\n"
     ]
    }
   ],
   "source": [
    "arr = np.random.randint(1,50,10)\n",
    "print(arr)\n",
    "print(np.sort(arr))\n",
    "print(np.argsort(arr))"
   ]
  },
  {
   "cell_type": "code",
   "execution_count": 15,
   "id": "69e02f36-1912-4637-bf3d-b105ecaf7965",
   "metadata": {},
   "outputs": [
    {
     "name": "stdout",
     "output_type": "stream",
     "text": [
      "[56 48 22 41 78 91 24 46  8 33]\n",
      "[ 8 22 24 33 41 46 48 56 78 91]\n",
      "[8 2 6 9 3 7 1 0 4 5]\n"
     ]
    },
    {
     "data": {
      "text/plain": [
       "array([ 8, 22, 24, 33, 41, 46, 48, 56, 78, 91])"
      ]
     },
     "execution_count": 15,
     "metadata": {},
     "output_type": "execute_result"
    }
   ],
   "source": [
    "B = [56, 48, 22, 41, 78, 91, 24, 46, 8, 33]\n",
    "arr1 = np.array(B)\n",
    "print(arr1)\n",
    "print(np.sort(arr1))\n",
    "print(np.argsort(arr1))\n",
    "arr1[np.argsort(arr1)]"
   ]
  },
  {
   "cell_type": "code",
   "execution_count": 25,
   "id": "7d94a954-c72c-45e9-b747-a9e926d85eb7",
   "metadata": {},
   "outputs": [
    {
     "name": "stdout",
     "output_type": "stream",
     "text": [
      "(3, 4)\n",
      "<class 'numpy.ndarray'>\n",
      "int32\n"
     ]
    },
    {
     "data": {
      "text/plain": [
       "(2, 6)"
      ]
     },
     "execution_count": 25,
     "metadata": {},
     "output_type": "execute_result"
    }
   ],
   "source": [
    "arr = np.random.randint(1,50,(3,4))\n",
    "print(arr.shape)\n",
    "print(type(arr))\n",
    "print(arr.dtype)\n",
    "arr = arr.reshape(2,6)\n",
    "arr.shape"
   ]
  },
  {
   "cell_type": "code",
   "execution_count": null,
   "id": "e892bddc-01ce-4b23-837e-0bd8beb3cb0f",
   "metadata": {},
   "outputs": [],
   "source": []
  }
 ],
 "metadata": {
  "kernelspec": {
   "display_name": "Python 3 (ipykernel)",
   "language": "python",
   "name": "python3"
  },
  "language_info": {
   "codemirror_mode": {
    "name": "ipython",
    "version": 3
   },
   "file_extension": ".py",
   "mimetype": "text/x-python",
   "name": "python",
   "nbconvert_exporter": "python",
   "pygments_lexer": "ipython3",
   "version": "3.12.0"
  }
 },
 "nbformat": 4,
 "nbformat_minor": 5
}
