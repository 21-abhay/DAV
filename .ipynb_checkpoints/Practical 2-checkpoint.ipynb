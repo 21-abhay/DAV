{
 "cells": [
  {
   "cell_type": "code",
   "execution_count": 1,
   "id": "bfbf585d-1578-4d65-b4e6-1ddbdb91d5a5",
   "metadata": {},
   "outputs": [],
   "source": [
    "import numpy as np"
   ]
  },
  {
   "cell_type": "code",
   "execution_count": 2,
   "id": "d9c99cac-1390-4590-89f9-8fa7b42774c1",
   "metadata": {},
   "outputs": [
    {
     "data": {
      "text/plain": [
       "array([[27, 13, 34, 44, 19, 23],\n",
       "       [28,  9, 40, 23, 31,  9],\n",
       "       [29,  7, 26,  5,  2, 22],\n",
       "       [27, 17, 46,  1, 33, 17]])"
      ]
     },
     "execution_count": 2,
     "metadata": {},
     "output_type": "execute_result"
    }
   ],
   "source": [
    "#part a\n",
    "arr = np.random.randint(1,50,(4,6))\n",
    "arr"
   ]
  },
  {
   "cell_type": "code",
   "execution_count": 5,
   "id": "5e60e63e-c936-4b4d-a9fe-69758bef1086",
   "metadata": {},
   "outputs": [
    {
     "name": "stdout",
     "output_type": "stream",
     "text": [
      "Mean of the array:  [26.66666667 23.33333333 15.16666667 23.5       ]\n",
      "Standard Deviation of the array:  [10.11050059 11.32352517 10.79222972 14.13918904]\n",
      "Variance of the array:  [102.22222222 128.22222222 116.47222222 199.91666667]\n"
     ]
    }
   ],
   "source": [
    "#along the second axis\n",
    "#Mean\n",
    "print('Mean of the array: ',arr.mean(axis=1))\n",
    "print('Standard Deviation of the array: ',arr.std(axis=1))\n",
    "print('Variance of the array: ',arr.var(axis=1))"
   ]
  },
  {
   "cell_type": "code",
   "execution_count": 4,
   "id": "dc7bafb0-78c0-4d14-b728-26a344a3a00d",
   "metadata": {},
   "outputs": [
    {
     "name": "stdout",
     "output_type": "stream",
     "text": [
      "Sorted array:  [ 8 22 24 33 41 46 48 56 78 91]\n",
      "Indices of the sorted elements of a given array:  [8 2 6 9 3 7 1 0 4 5]\n"
     ]
    }
   ],
   "source": [
    "#part b\n",
    "B = [56, 48, 22, 41, 78, 91, 24, 46, 8, 33]\n",
    "arr1 = np.array(B)\n",
    "#arr1\n",
    "print(\"Sorted array: \",np.sort(arr1))\n",
    "print(\"Indices of the sorted elements of a given array: \",np.argsort(arr1))"
   ]
  },
  {
   "cell_type": "code",
   "execution_count": 7,
   "id": "d400e04c-a17b-4781-9f97-03fc454d5fc6",
   "metadata": {},
   "outputs": [
    {
     "name": "stdin",
     "output_type": "stream",
     "text": [
      "Enter the number of rows(m):  2\n",
      "Enter the number of columns(n):  3\n"
     ]
    },
    {
     "name": "stdout",
     "output_type": "stream",
     "text": [
      "[[ 6 77 89]\n",
      " [55 43 24]]\n",
      "Shape:  (2, 3)\n",
      "Type:  <class 'numpy.ndarray'>\n",
      "Data Type:  int32\n",
      "After reshaping: \n",
      " [[ 6 77]\n",
      " [89 55]\n",
      " [43 24]]\n",
      "New Shape:  (3, 2)\n"
     ]
    }
   ],
   "source": [
    "#part c\n",
    "m = int(input('Enter the number of rows(m): '))\n",
    "n = int(input('Enter the number of columns(n): '))\n",
    "arr2 = np.random.randint(1,100,(m,n))\n",
    "print(arr2)\n",
    "print('Shape: ',arr2.shape)\n",
    "print('Type: ',type(arr2))\n",
    "print('Data Type: ',arr2.dtype)\n",
    "arr2 = arr2.reshape(n,m)\n",
    "print('After reshaping: \\n',arr2)\n",
    "print('New Shape: ',arr2.shape)"
   ]
  },
  {
   "cell_type": "code",
   "execution_count": 8,
   "id": "63be73b5-022d-4508-a648-a77d81b3edee",
   "metadata": {},
   "outputs": [
    {
     "name": "stdout",
     "output_type": "stream",
     "text": [
      "ORIGINAL ARRAY ::->  [1 0 3 4]\n",
      "\n",
      "Test if none of the elements of the said array is zero ::->  False\n",
      "The index of the  zero elements is ::  [1]\n",
      "\n",
      "\n",
      "\n",
      "ORIGINAL ARRAY ::->  [1 0 0 3 2 0]\n",
      "\n",
      "Test whether any of the elements of a given array is non-zero :: True\n",
      "The index of the non- zero elements is ::  [0 3 4]\n",
      "\n",
      "\n",
      "\n",
      "ORIGINAL ARRAY ::->  [ 1.  0. nan  3. nan]\n",
      "\n",
      "Test element-wise for NaN ::  [False False  True False  True]\n",
      "The index of the  zero elements is ::  [2 4]\n"
     ]
    }
   ],
   "source": [
    "#part D\n",
    "x = np.array([1, 0, 3, 4])\n",
    "print(\"ORIGINAL ARRAY ::-> \",x)\n",
    "print(\"\\nTest if none of the elements of the said array is zero ::-> \", np.all(x))\n",
    "\n",
    "res = np.where(x == 0)[0]\n",
    "print(\"The index of the  zero elements is :: \",res)\n",
    "\n",
    "\n",
    "x = np.array([1, 0, 0, 3, 2, 0])\n",
    "print(\"\\n\")\n",
    "print(\"\\nORIGINAL ARRAY ::-> \",x)\n",
    "print(\"\\nTest whether any of the elements of a given array is non-zero ::\",np.any(x))\n",
    "res = np.where(x != 0)[0]\n",
    "print(\"The index of the non- zero elements is :: \",res)\n",
    "x = np.array([0, 0, 0, 0])\n",
    "\n",
    "\n",
    "a = np.array([1, 0, np.nan, 3, np.nan])\n",
    "print(\"\\n\")\n",
    "print(\"\\nORIGINAL ARRAY ::-> \",a)\n",
    "print(\"\\nTest element-wise for NaN :: \",np.isnan(a))\n",
    "\n",
    "res = np.where(np.isnan(a) == True)[0]\n",
    "print(\"The index of the  zero elements is :: \",res)"
   ]
  },
  {
   "cell_type": "code",
   "execution_count": null,
   "id": "a01a982b-8b6d-422f-bb17-347307e99706",
   "metadata": {},
   "outputs": [],
   "source": []
  },
  {
   "cell_type": "code",
   "execution_count": null,
   "id": "a33182cc-5109-4225-9bb9-e47faf31a3c2",
   "metadata": {},
   "outputs": [],
   "source": []
  }
 ],
 "metadata": {
  "kernelspec": {
   "display_name": "Python 3 (ipykernel)",
   "language": "python",
   "name": "python3"
  },
  "language_info": {
   "codemirror_mode": {
    "name": "ipython",
    "version": 3
   },
   "file_extension": ".py",
   "mimetype": "text/x-python",
   "name": "python",
   "nbconvert_exporter": "python",
   "pygments_lexer": "ipython3",
   "version": "3.12.0"
  }
 },
 "nbformat": 4,
 "nbformat_minor": 5
}
