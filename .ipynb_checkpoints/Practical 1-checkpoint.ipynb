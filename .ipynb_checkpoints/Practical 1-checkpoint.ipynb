{
 "cells": [
  {
   "cell_type": "code",
   "execution_count": 2,
   "id": "f0237ea8-40d6-4f34-bdf2-49385d973ec5",
   "metadata": {},
   "outputs": [
    {
     "name": "stdout",
     "output_type": "stream",
     "text": [
      "\n",
      " ORIGINAL DICTIONARY OF LISTS : {'Boys': [72, 68, 70, 69, 74], 'Girls': [63, 65, 69, 62, 61]}\n",
      "\n",
      " NOW LIST OF DICTIONARIES : \n",
      " [{'Boys': 72, 'Girls': 63}, {'Boys': 68, 'Girls': 65}, {'Boys': 70, 'Girls': 69}, {'Boys': 69, 'Girls': 62}, {'Boys': 74, 'Girls': 61}]\n"
     ]
    }
   ],
   "source": [
    "def list_of_dict(heights):\n",
    "    keys=heights.keys()\n",
    "    values = zip(*[heights[k] for k in keys])\n",
    "    result = [dict(zip(keys,v )) for v in values]\n",
    "    return result\n",
    "\n",
    "heights = {'Boys':[72,68,70,69,74], 'Girls':[63,65,69,62,61]}\n",
    "print(\"\\n ORIGINAL DICTIONARY OF LISTS :\" , heights)\n",
    "print(\"\\n NOW LIST OF DICTIONARIES : \\n\",list_of_dict(heights))"
   ]
  },
  {
   "cell_type": "code",
   "execution_count": null,
   "id": "51c8e491-0441-4f2f-ab73-23f543ba7b19",
   "metadata": {},
   "outputs": [],
   "source": []
  }
 ],
 "metadata": {
  "kernelspec": {
   "display_name": "Python 3 (ipykernel)",
   "language": "python",
   "name": "python3"
  },
  "language_info": {
   "codemirror_mode": {
    "name": "ipython",
    "version": 3
   },
   "file_extension": ".py",
   "mimetype": "text/x-python",
   "name": "python",
   "nbconvert_exporter": "python",
   "pygments_lexer": "ipython3",
   "version": "3.12.0"
  }
 },
 "nbformat": 4,
 "nbformat_minor": 5
}
